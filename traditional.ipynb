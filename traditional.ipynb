{
 "cells": [
  {
   "cell_type": "code",
   "execution_count": 1,
   "metadata": {},
   "outputs": [
    {
     "data": {
      "text/html": [
       "<div>\n",
       "<style scoped>\n",
       "    .dataframe tbody tr th:only-of-type {\n",
       "        vertical-align: middle;\n",
       "    }\n",
       "\n",
       "    .dataframe tbody tr th {\n",
       "        vertical-align: top;\n",
       "    }\n",
       "\n",
       "    .dataframe thead th {\n",
       "        text-align: right;\n",
       "    }\n",
       "</style>\n",
       "<table border=\"1\" class=\"dataframe\">\n",
       "  <thead>\n",
       "    <tr style=\"text-align: right;\">\n",
       "      <th></th>\n",
       "      <th>Image</th>\n",
       "      <th>contrast</th>\n",
       "      <th>dissimilarity</th>\n",
       "      <th>homogeneity</th>\n",
       "      <th>energy</th>\n",
       "      <th>correlation</th>\n",
       "      <th>entropy</th>\n",
       "    </tr>\n",
       "  </thead>\n",
       "  <tbody>\n",
       "    <tr>\n",
       "      <th>0</th>\n",
       "      <td>100.jpg</td>\n",
       "      <td>68.391943</td>\n",
       "      <td>3.442358</td>\n",
       "      <td>0.407688</td>\n",
       "      <td>0.086368</td>\n",
       "      <td>0.985854</td>\n",
       "      <td>6.901329</td>\n",
       "    </tr>\n",
       "    <tr>\n",
       "      <th>1</th>\n",
       "      <td>101.jpg</td>\n",
       "      <td>43.106726</td>\n",
       "      <td>2.694521</td>\n",
       "      <td>0.447988</td>\n",
       "      <td>0.072553</td>\n",
       "      <td>0.987294</td>\n",
       "      <td>6.636268</td>\n",
       "    </tr>\n",
       "    <tr>\n",
       "      <th>2</th>\n",
       "      <td>102.jpg</td>\n",
       "      <td>54.911871</td>\n",
       "      <td>3.011028</td>\n",
       "      <td>0.445394</td>\n",
       "      <td>0.083001</td>\n",
       "      <td>0.986244</td>\n",
       "      <td>6.722089</td>\n",
       "    </tr>\n",
       "    <tr>\n",
       "      <th>3</th>\n",
       "      <td>103.jpg</td>\n",
       "      <td>42.799076</td>\n",
       "      <td>3.005844</td>\n",
       "      <td>0.440684</td>\n",
       "      <td>0.094325</td>\n",
       "      <td>0.990842</td>\n",
       "      <td>6.823557</td>\n",
       "    </tr>\n",
       "    <tr>\n",
       "      <th>4</th>\n",
       "      <td>104.jpg</td>\n",
       "      <td>50.750850</td>\n",
       "      <td>4.431428</td>\n",
       "      <td>0.233907</td>\n",
       "      <td>0.024835</td>\n",
       "      <td>0.969365</td>\n",
       "      <td>6.796737</td>\n",
       "    </tr>\n",
       "  </tbody>\n",
       "</table>\n",
       "</div>"
      ],
      "text/plain": [
       "     Image   contrast  dissimilarity  homogeneity    energy  correlation  \\\n",
       "0  100.jpg  68.391943       3.442358     0.407688  0.086368     0.985854   \n",
       "1  101.jpg  43.106726       2.694521     0.447988  0.072553     0.987294   \n",
       "2  102.jpg  54.911871       3.011028     0.445394  0.083001     0.986244   \n",
       "3  103.jpg  42.799076       3.005844     0.440684  0.094325     0.990842   \n",
       "4  104.jpg  50.750850       4.431428     0.233907  0.024835     0.969365   \n",
       "\n",
       "    entropy  \n",
       "0  6.901329  \n",
       "1  6.636268  \n",
       "2  6.722089  \n",
       "3  6.823557  \n",
       "4  6.796737  "
      ]
     },
     "execution_count": 1,
     "metadata": {},
     "output_type": "execute_result"
    }
   ],
   "source": [
    "import pandas as pd\n",
    "import numpy as np\n",
    "\n",
    "data=pd.read_excel('D:\\coding\\PRML\\hobby\\cervical cancer\\lugol_glcm_properties.xlsx')\n",
    "data.head()"
   ]
  },
  {
   "cell_type": "code",
   "execution_count": 6,
   "metadata": {},
   "outputs": [
    {
     "data": {
      "text/html": [
       "<div>\n",
       "<style scoped>\n",
       "    .dataframe tbody tr th:only-of-type {\n",
       "        vertical-align: middle;\n",
       "    }\n",
       "\n",
       "    .dataframe tbody tr th {\n",
       "        vertical-align: top;\n",
       "    }\n",
       "\n",
       "    .dataframe thead th {\n",
       "        text-align: right;\n",
       "    }\n",
       "</style>\n",
       "<table border=\"1\" class=\"dataframe\">\n",
       "  <thead>\n",
       "    <tr style=\"text-align: right;\">\n",
       "      <th></th>\n",
       "      <th>contrast</th>\n",
       "      <th>dissimilarity</th>\n",
       "      <th>homogeneity</th>\n",
       "      <th>energy</th>\n",
       "      <th>correlation</th>\n",
       "      <th>entropy</th>\n",
       "      <th>CaseID</th>\n",
       "      <th>VIA</th>\n",
       "    </tr>\n",
       "  </thead>\n",
       "  <tbody>\n",
       "    <tr>\n",
       "      <th>0</th>\n",
       "      <td>283.744565</td>\n",
       "      <td>11.801893</td>\n",
       "      <td>0.165723</td>\n",
       "      <td>0.059224</td>\n",
       "      <td>0.972048</td>\n",
       "      <td>7.741566</td>\n",
       "      <td>AFC</td>\n",
       "      <td>Negative</td>\n",
       "    </tr>\n",
       "    <tr>\n",
       "      <th>1</th>\n",
       "      <td>155.903369</td>\n",
       "      <td>6.292197</td>\n",
       "      <td>0.320660</td>\n",
       "      <td>0.179214</td>\n",
       "      <td>0.986113</td>\n",
       "      <td>7.093800</td>\n",
       "      <td>AJL</td>\n",
       "      <td>Negative</td>\n",
       "    </tr>\n",
       "    <tr>\n",
       "      <th>2</th>\n",
       "      <td>78.084047</td>\n",
       "      <td>4.093255</td>\n",
       "      <td>0.350709</td>\n",
       "      <td>0.064911</td>\n",
       "      <td>0.988939</td>\n",
       "      <td>7.466649</td>\n",
       "      <td>AGY</td>\n",
       "      <td>Negative</td>\n",
       "    </tr>\n",
       "    <tr>\n",
       "      <th>3</th>\n",
       "      <td>70.028251</td>\n",
       "      <td>4.444391</td>\n",
       "      <td>0.350128</td>\n",
       "      <td>0.074385</td>\n",
       "      <td>0.994013</td>\n",
       "      <td>7.624819</td>\n",
       "      <td>AJE</td>\n",
       "      <td>Negative</td>\n",
       "    </tr>\n",
       "    <tr>\n",
       "      <th>4</th>\n",
       "      <td>65.833814</td>\n",
       "      <td>4.335129</td>\n",
       "      <td>0.324166</td>\n",
       "      <td>0.043489</td>\n",
       "      <td>0.994367</td>\n",
       "      <td>7.794829</td>\n",
       "      <td>AHS</td>\n",
       "      <td>Negative</td>\n",
       "    </tr>\n",
       "    <tr>\n",
       "      <th>...</th>\n",
       "      <td>...</td>\n",
       "      <td>...</td>\n",
       "      <td>...</td>\n",
       "      <td>...</td>\n",
       "      <td>...</td>\n",
       "      <td>...</td>\n",
       "      <td>...</td>\n",
       "      <td>...</td>\n",
       "    </tr>\n",
       "    <tr>\n",
       "      <th>180</th>\n",
       "      <td>28.602161</td>\n",
       "      <td>2.794230</td>\n",
       "      <td>0.376036</td>\n",
       "      <td>0.040077</td>\n",
       "      <td>0.994485</td>\n",
       "      <td>7.432741</td>\n",
       "      <td>AAC</td>\n",
       "      <td>Suspicious of cancer</td>\n",
       "    </tr>\n",
       "    <tr>\n",
       "      <th>181</th>\n",
       "      <td>24.775397</td>\n",
       "      <td>2.788929</td>\n",
       "      <td>0.365146</td>\n",
       "      <td>0.023337</td>\n",
       "      <td>0.995700</td>\n",
       "      <td>7.703034</td>\n",
       "      <td>AAR</td>\n",
       "      <td>Suspicious of cancer</td>\n",
       "    </tr>\n",
       "    <tr>\n",
       "      <th>182</th>\n",
       "      <td>34.473653</td>\n",
       "      <td>3.404823</td>\n",
       "      <td>0.328069</td>\n",
       "      <td>0.024295</td>\n",
       "      <td>0.995153</td>\n",
       "      <td>7.774326</td>\n",
       "      <td>AEY</td>\n",
       "      <td>Suspicious of cancer</td>\n",
       "    </tr>\n",
       "    <tr>\n",
       "      <th>183</th>\n",
       "      <td>29.405277</td>\n",
       "      <td>2.902007</td>\n",
       "      <td>0.385178</td>\n",
       "      <td>0.057611</td>\n",
       "      <td>0.996037</td>\n",
       "      <td>7.478304</td>\n",
       "      <td>AEU</td>\n",
       "      <td>Suspicious of cancer</td>\n",
       "    </tr>\n",
       "    <tr>\n",
       "      <th>184</th>\n",
       "      <td>50.114054</td>\n",
       "      <td>3.638373</td>\n",
       "      <td>0.363525</td>\n",
       "      <td>0.057077</td>\n",
       "      <td>0.994712</td>\n",
       "      <td>7.643260</td>\n",
       "      <td>ADF</td>\n",
       "      <td>Suspicious of cancer</td>\n",
       "    </tr>\n",
       "  </tbody>\n",
       "</table>\n",
       "<p>185 rows × 8 columns</p>\n",
       "</div>"
      ],
      "text/plain": [
       "       contrast  dissimilarity  homogeneity    energy  correlation   entropy  \\\n",
       "0    283.744565      11.801893     0.165723  0.059224     0.972048  7.741566   \n",
       "1    155.903369       6.292197     0.320660  0.179214     0.986113  7.093800   \n",
       "2     78.084047       4.093255     0.350709  0.064911     0.988939  7.466649   \n",
       "3     70.028251       4.444391     0.350128  0.074385     0.994013  7.624819   \n",
       "4     65.833814       4.335129     0.324166  0.043489     0.994367  7.794829   \n",
       "..          ...            ...          ...       ...          ...       ...   \n",
       "180   28.602161       2.794230     0.376036  0.040077     0.994485  7.432741   \n",
       "181   24.775397       2.788929     0.365146  0.023337     0.995700  7.703034   \n",
       "182   34.473653       3.404823     0.328069  0.024295     0.995153  7.774326   \n",
       "183   29.405277       2.902007     0.385178  0.057611     0.996037  7.478304   \n",
       "184   50.114054       3.638373     0.363525  0.057077     0.994712  7.643260   \n",
       "\n",
       "    CaseID                   VIA  \n",
       "0      AFC              Negative  \n",
       "1      AJL              Negative  \n",
       "2      AGY              Negative  \n",
       "3      AJE              Negative  \n",
       "4      AHS              Negative  \n",
       "..     ...                   ...  \n",
       "180    AAC  Suspicious of cancer  \n",
       "181    AAR  Suspicious of cancer  \n",
       "182    AEY  Suspicious of cancer  \n",
       "183    AEU  Suspicious of cancer  \n",
       "184    ADF  Suspicious of cancer  \n",
       "\n",
       "[185 rows x 8 columns]"
      ]
     },
     "execution_count": 6,
     "metadata": {},
     "output_type": "execute_result"
    }
   ],
   "source": [
    "df.drop(columns=[\"CaseNumber\",\"SCJ\",\"SCJ Location\",\"Acitowhite area\",\"Acitowhite area color\",\"Acitowhite area margin\",\"Acitowhite area surface\",\"Acitowhite area location\",\"Acitowhite area size\",\"Eligibility for ablative treatment\",\"Histology findings\"],inplace=True)\n",
    "df.drop(index=185,inplace=True)\n",
    "df"
   ]
  },
  {
   "cell_type": "code",
   "execution_count": 7,
   "metadata": {},
   "outputs": [
    {
     "data": {
      "text/html": [
       "<div>\n",
       "<style scoped>\n",
       "    .dataframe tbody tr th:only-of-type {\n",
       "        vertical-align: middle;\n",
       "    }\n",
       "\n",
       "    .dataframe tbody tr th {\n",
       "        vertical-align: top;\n",
       "    }\n",
       "\n",
       "    .dataframe thead th {\n",
       "        text-align: right;\n",
       "    }\n",
       "</style>\n",
       "<table border=\"1\" class=\"dataframe\">\n",
       "  <thead>\n",
       "    <tr style=\"text-align: right;\">\n",
       "      <th></th>\n",
       "      <th>contrast</th>\n",
       "      <th>dissimilarity</th>\n",
       "      <th>homogeneity</th>\n",
       "      <th>energy</th>\n",
       "      <th>correlation</th>\n",
       "      <th>entropy</th>\n",
       "    </tr>\n",
       "  </thead>\n",
       "  <tbody>\n",
       "    <tr>\n",
       "      <th>65</th>\n",
       "      <td>72.795115</td>\n",
       "      <td>4.598985</td>\n",
       "      <td>0.317680</td>\n",
       "      <td>0.082471</td>\n",
       "      <td>0.991115</td>\n",
       "      <td>7.441295</td>\n",
       "    </tr>\n",
       "    <tr>\n",
       "      <th>67</th>\n",
       "      <td>67.017911</td>\n",
       "      <td>3.712494</td>\n",
       "      <td>0.419994</td>\n",
       "      <td>0.036050</td>\n",
       "      <td>0.993991</td>\n",
       "      <td>7.757485</td>\n",
       "    </tr>\n",
       "    <tr>\n",
       "      <th>31</th>\n",
       "      <td>112.194133</td>\n",
       "      <td>5.904033</td>\n",
       "      <td>0.296427</td>\n",
       "      <td>0.094097</td>\n",
       "      <td>0.990220</td>\n",
       "      <td>7.605158</td>\n",
       "    </tr>\n",
       "    <tr>\n",
       "      <th>12</th>\n",
       "      <td>79.972613</td>\n",
       "      <td>4.532531</td>\n",
       "      <td>0.305087</td>\n",
       "      <td>0.035221</td>\n",
       "      <td>0.993216</td>\n",
       "      <td>7.834926</td>\n",
       "    </tr>\n",
       "    <tr>\n",
       "      <th>41</th>\n",
       "      <td>36.861079</td>\n",
       "      <td>2.949612</td>\n",
       "      <td>0.381122</td>\n",
       "      <td>0.027213</td>\n",
       "      <td>0.992183</td>\n",
       "      <td>7.441585</td>\n",
       "    </tr>\n",
       "  </tbody>\n",
       "</table>\n",
       "</div>"
      ],
      "text/plain": [
       "      contrast  dissimilarity  homogeneity    energy  correlation   entropy\n",
       "65   72.795115       4.598985     0.317680  0.082471     0.991115  7.441295\n",
       "67   67.017911       3.712494     0.419994  0.036050     0.993991  7.757485\n",
       "31  112.194133       5.904033     0.296427  0.094097     0.990220  7.605158\n",
       "12   79.972613       4.532531     0.305087  0.035221     0.993216  7.834926\n",
       "41   36.861079       2.949612     0.381122  0.027213     0.992183  7.441585"
      ]
     },
     "execution_count": 7,
     "metadata": {},
     "output_type": "execute_result"
    }
   ],
   "source": [
    "from sklearn.model_selection import train_test_split\n",
    "\n",
    "X=df.drop(columns=[\"CaseID\",\"VIA\"])\n",
    "Y=df[\"VIA\"]\n",
    "x_train,x_test,y_train,y_test=train_test_split(X,Y,test_size=0.2,random_state=42)\n",
    "x_train.head()"
   ]
  },
  {
   "cell_type": "code",
   "execution_count": 8,
   "metadata": {},
   "outputs": [
    {
     "name": "stdout",
     "output_type": "stream",
     "text": [
      "Accuracy of SVM is: 0.5405405405405406\n",
      "[[ 9 11  0]\n",
      " [ 3 11  0]\n",
      " [ 1  2  0]]\n"
     ]
    }
   ],
   "source": [
    "from sklearn.svm import SVC \n",
    "from sklearn.metrics import classification_report,confusion_matrix,accuracy_score\n",
    "svm = SVC(kernel = 'linear', C = 1).fit(x_train, y_train) \n",
    "svm_predictions = svm.predict(x_test) \n",
    "  \n",
    "# model accuracy for X_test   \n",
    "accuracy = svm.score(x_test, y_test) \n",
    "# creating a confusion matrix \n",
    "cm = confusion_matrix(y_test, svm_predictions) \n",
    "print(\"Accuracy of SVM is:\",accuracy)\n",
    "print(cm)"
   ]
  },
  {
   "cell_type": "code",
   "execution_count": 61,
   "metadata": {},
   "outputs": [
    {
     "name": "stdout",
     "output_type": "stream",
     "text": [
      "The Accuracy of randomforestclassifier is: 0.5135135135135135\n",
      "The best accuracy score obtained is: 0.5528735632183908  at parameters  {'max_depth': 32, 'n_estimators': 10}\n"
     ]
    }
   ],
   "source": [
    "from sklearn.ensemble import RandomForestClassifier\n",
    "model=RandomForestClassifier(n_estimators=25)\n",
    "model.fit(x_train,y_train)\n",
    "preds=model.predict(x_test)\n",
    "acc=accuracy_score(y_test,preds)\n",
    "print(\"The Accuracy of randomforestclassifier is:\", acc)\n",
    "\n",
    "parameters = {\n",
    "    \"n_estimators\":[5,10,50,100,250],\n",
    "    \"max_depth\":[2,4,8,16,32,None]\n",
    "}\n",
    "\n",
    "from sklearn.model_selection import GridSearchCV\n",
    "cv = GridSearchCV(model,parameters,cv=5)\n",
    "cv.fit(x_train,y_train)\n",
    "print(\"The best accuracy score obtained is:\",cv.best_score_,\" at parameters \", cv.best_params_)\n"
   ]
  },
  {
   "cell_type": "code",
   "execution_count": 60,
   "metadata": {},
   "outputs": [
    {
     "name": "stdout",
     "output_type": "stream",
     "text": [
      "The Accuracy of randomforestclassifier is: 0.6216216216216216\n"
     ]
    }
   ],
   "source": [
    "from sklearn.ensemble import RandomForestClassifier\n",
    "model=RandomForestClassifier(max_depth=None,n_estimators=5)\n",
    "model.fit(x_train,y_train)\n",
    "preds=model.predict(x_test)\n",
    "acc=accuracy_score(y_test,preds)\n",
    "print(\"The Accuracy of randomforestclassifier is:\", acc)"
   ]
  },
  {
   "cell_type": "code",
   "execution_count": 62,
   "metadata": {},
   "outputs": [
    {
     "name": "stdout",
     "output_type": "stream",
     "text": [
      "The Accuracy of Naive Bayes is: 0.2972972972972973\n"
     ]
    }
   ],
   "source": [
    "from sklearn.naive_bayes import GaussianNB\n",
    "model=GaussianNB()\n",
    "model.fit(x_train,y_train)\n",
    "preds=model.predict(x_test)\n",
    "acc=accuracy_score(y_test,preds)\n",
    "print(\"The Accuracy of Naive Bayes is:\", acc)"
   ]
  },
  {
   "cell_type": "code",
   "execution_count": 11,
   "metadata": {},
   "outputs": [
    {
     "name": "stdout",
     "output_type": "stream",
     "text": [
      "The Accuracy of Logistic regression is: 0.6486486486486487\n"
     ]
    },
    {
     "name": "stderr",
     "output_type": "stream",
     "text": [
      "c:\\Users\\sakth\\AppData\\Local\\Programs\\Python\\Python310\\lib\\site-packages\\sklearn\\linear_model\\_logistic.py:460: ConvergenceWarning: lbfgs failed to converge (status=1):\n",
      "STOP: TOTAL NO. of ITERATIONS REACHED LIMIT.\n",
      "\n",
      "Increase the number of iterations (max_iter) or scale the data as shown in:\n",
      "    https://scikit-learn.org/stable/modules/preprocessing.html\n",
      "Please also refer to the documentation for alternative solver options:\n",
      "    https://scikit-learn.org/stable/modules/linear_model.html#logistic-regression\n",
      "  n_iter_i = _check_optimize_result(\n"
     ]
    }
   ],
   "source": [
    "from sklearn.linear_model import LogisticRegression\n",
    "model=LogisticRegression()\n",
    "model.fit(x_train,y_train)\n",
    "preds=model.predict(x_test)\n",
    "acc=accuracy_score(y_test,preds)\n",
    "print(\"The Accuracy of Logistic regression is:\", acc)"
   ]
  },
  {
   "cell_type": "code",
   "execution_count": 13,
   "metadata": {},
   "outputs": [
    {
     "name": "stdout",
     "output_type": "stream",
     "text": [
      "The accuracy score of logistic regression is:  0.6216216216216216\n"
     ]
    }
   ],
   "source": [
    "from sklearn.pipeline import make_pipeline\n",
    "from sklearn.preprocessing import StandardScaler,MinMaxScaler\n",
    "\n",
    "pipe = make_pipeline(MinMaxScaler(), LogisticRegression())\n",
    "pipe.fit(x_train, y_train)  # apply scaling on training data\n",
    "score=pipe.score(x_test, y_test) \n",
    "print(\"The accuracy score of logistic regression is: \", score)"
   ]
  },
  {
   "cell_type": "code",
   "execution_count": 14,
   "metadata": {},
   "outputs": [
    {
     "name": "stdout",
     "output_type": "stream",
     "text": [
      "0.7027027027027027\n"
     ]
    }
   ],
   "source": [
    "from sklearn.neighbors import KNeighborsClassifier\n",
    "from sklearn.pipeline import make_pipeline\n",
    "from sklearn.preprocessing import StandardScaler,MinMaxScaler\n",
    "import pickle\n",
    "\n",
    "pipe = make_pipeline(MinMaxScaler(), KNeighborsClassifier(n_neighbors=70))\n",
    "pipe.fit(x_train, y_train)  # apply scaling on training data\n",
    "score=pipe.score(x_test, y_test)\n",
    "print(score)\n",
    "pickle.dump([pipe], open('knn.pkl', 'wb'))"
   ]
  },
  {
   "cell_type": "code",
   "execution_count": null,
   "metadata": {},
   "outputs": [],
   "source": [
    "max_score=0\n",
    "max_ind=-1\n",
    "for i in range(1,148):\n",
    "    pipe = make_pipeline(MinMaxScaler(), KNeighborsClassifier(n_neighbors=i))\n",
    "    pipe.fit(x_train, y_train)  # apply scaling on training data\n",
    "    score=pipe.score(x_test, y_test)\n",
    "    if score>max_score:\n",
    "        max_score=score\n",
    "        max_ind=i\n",
    "print(max_score,max_ind)"
   ]
  },
  {
   "cell_type": "markdown",
   "metadata": {},
   "source": [
    "Best accuracy is obtained with KNeighboursClassifier model at n-neigbours parameter set to 20.\n",
    "Accuracy score obtained = 70.27 %"
   ]
  },
  {
   "cell_type": "code",
   "execution_count": 15,
   "metadata": {},
   "outputs": [
    {
     "name": "stdout",
     "output_type": "stream",
     "text": [
      "The accuracy of a Perceptron is: 0.40540540540540543\n"
     ]
    }
   ],
   "source": [
    "from sklearn.linear_model import Perceptron\n",
    "\n",
    "model=Perceptron()\n",
    "model.fit(x_train,y_train)\n",
    "preds=model.predict(x_test)\n",
    "acc=accuracy_score(y_test,preds)\n",
    "\n",
    "print(\"The accuracy of a Perceptron is:\",acc)"
   ]
  },
  {
   "cell_type": "code",
   "execution_count": 16,
   "metadata": {},
   "outputs": [
    {
     "name": "stdout",
     "output_type": "stream",
     "text": [
      "The accuracy score obtained by MLP classifier is : 0.6216216216216216\n"
     ]
    }
   ],
   "source": [
    "from sklearn.neural_network import MLPClassifier\n",
    "clf=MLPClassifier(random_state=1,max_iter=300)\n",
    "clf.fit(x_train,y_train)\n",
    "preds=clf.predict(x_test)\n",
    "acc=accuracy_score(y_test,preds)\n",
    "print(\"The accuracy score obtained by MLP classifier is :\",acc)"
   ]
  },
  {
   "cell_type": "code",
   "execution_count": 17,
   "metadata": {},
   "outputs": [
    {
     "name": "stdout",
     "output_type": "stream",
     "text": [
      "The accuracy of decision tree with adaboost is 0.4594594594594595\n"
     ]
    }
   ],
   "source": [
    "from sklearn.ensemble import AdaBoostClassifier\n",
    "from sklearn.tree import DecisionTreeClassifier\n",
    "\n",
    "clf=AdaBoostClassifier(\n",
    "    DecisionTreeClassifier(max_depth=1),n_estimators=100,algorithm=\"SAMME.R\",learning_rate=0.5\n",
    "    )\n",
    "clf.fit(x_train,y_train)\n",
    "preds=clf.predict(x_test)\n",
    "score=accuracy_score(y_test,preds)\n",
    "\n",
    "print(\"The accuracy of decision tree with adaboost is\",score)"
   ]
  }
 ],
 "metadata": {
  "kernelspec": {
   "display_name": "Python 3",
   "language": "python",
   "name": "python3"
  },
  "language_info": {
   "codemirror_mode": {
    "name": "ipython",
    "version": 3
   },
   "file_extension": ".py",
   "mimetype": "text/x-python",
   "name": "python",
   "nbconvert_exporter": "python",
   "pygments_lexer": "ipython3",
   "version": "3.10.0"
  }
 },
 "nbformat": 4,
 "nbformat_minor": 2
}
