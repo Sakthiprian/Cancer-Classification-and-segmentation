{
 "cells": [
  {
   "cell_type": "code",
   "execution_count": 1,
   "metadata": {},
   "outputs": [],
   "source": [
    "import pandas as pd\n",
    "import numpy as np\n",
    "from PIL import Image\n",
    "import os\n",
    "from keras.applications.vgg16 import VGG16\n",
    "from keras.applications.vgg16 import preprocess_input\n",
    "from keras.layers import Input,Lambda,Flatten,Dense\n",
    "from keras.models import Model\n",
    "from keras.preprocessing import image\n",
    "from keras.preprocessing.image import ImageDataGenerator\n",
    "from keras.models import Sequential\n",
    "import matplotlib.pyplot as plt\n",
    "from sklearn.model_selection import train_test_split\n"
   ]
  },
  {
   "cell_type": "code",
   "execution_count": 2,
   "metadata": {},
   "outputs": [],
   "source": [
    "data= pd.read_excel('Cases Meta data.xlsx')\n",
    "df = data[[\"CaseID\", \"VIA\"]]\n",
    "df=df.sort_values(by=\"CaseID\")"
   ]
  },
  {
   "cell_type": "code",
   "execution_count": 36,
   "metadata": {},
   "outputs": [
    {
     "name": "stdout",
     "output_type": "stream",
     "text": [
      "D:\\coding\\PRML\\hobby\\cervical cancer\\Data\\APV1.jpg\n"
     ]
    }
   ],
   "source": [
    "# Step 1: Create a list of file paths\n",
    "image_dir = 'D:\\coding\\PRML\\hobby\\cervical cancer\\Data'  # Replace with your image directory\n",
    "file_paths = [os.path.join(image_dir, filename) for filename in os.listdir(image_dir)]\n",
    "print(file_paths[184])"
   ]
  },
  {
   "cell_type": "code",
   "execution_count": 3,
   "metadata": {},
   "outputs": [
    {
     "data": {
      "text/html": [
       "<div>\n",
       "<style scoped>\n",
       "    .dataframe tbody tr th:only-of-type {\n",
       "        vertical-align: middle;\n",
       "    }\n",
       "\n",
       "    .dataframe tbody tr th {\n",
       "        vertical-align: top;\n",
       "    }\n",
       "\n",
       "    .dataframe thead th {\n",
       "        text-align: right;\n",
       "    }\n",
       "</style>\n",
       "<table border=\"1\" class=\"dataframe\">\n",
       "  <thead>\n",
       "    <tr style=\"text-align: right;\">\n",
       "      <th></th>\n",
       "      <th>CaseNumber</th>\n",
       "      <th>File</th>\n",
       "      <th>Type</th>\n",
       "    </tr>\n",
       "  </thead>\n",
       "  <tbody>\n",
       "    <tr>\n",
       "      <th>0</th>\n",
       "      <td>1</td>\n",
       "      <td>AFC0.jpg</td>\n",
       "      <td>Before application of acetic acid</td>\n",
       "    </tr>\n",
       "    <tr>\n",
       "      <th>1</th>\n",
       "      <td>1</td>\n",
       "      <td>AFC1.jpg</td>\n",
       "      <td>After application of acetic acid</td>\n",
       "    </tr>\n",
       "    <tr>\n",
       "      <th>2</th>\n",
       "      <td>2</td>\n",
       "      <td>AJL0.jpg</td>\n",
       "      <td>Before application of acetic acid</td>\n",
       "    </tr>\n",
       "    <tr>\n",
       "      <th>3</th>\n",
       "      <td>2</td>\n",
       "      <td>AJL1.jpg</td>\n",
       "      <td>After application of acetic acid</td>\n",
       "    </tr>\n",
       "    <tr>\n",
       "      <th>4</th>\n",
       "      <td>3</td>\n",
       "      <td>AGY0.jpg</td>\n",
       "      <td>Before application of acetic acid</td>\n",
       "    </tr>\n",
       "    <tr>\n",
       "      <th>...</th>\n",
       "      <td>...</td>\n",
       "      <td>...</td>\n",
       "      <td>...</td>\n",
       "    </tr>\n",
       "    <tr>\n",
       "      <th>415</th>\n",
       "      <td>184</td>\n",
       "      <td>AEU1.jpg</td>\n",
       "      <td>After application of acetic acid</td>\n",
       "    </tr>\n",
       "    <tr>\n",
       "      <th>416</th>\n",
       "      <td>185</td>\n",
       "      <td>ADF0.jpg</td>\n",
       "      <td>Before application of acetic acid</td>\n",
       "    </tr>\n",
       "    <tr>\n",
       "      <th>417</th>\n",
       "      <td>185</td>\n",
       "      <td>ADF1.jpg</td>\n",
       "      <td>After application of acetic acid</td>\n",
       "    </tr>\n",
       "    <tr>\n",
       "      <th>418</th>\n",
       "      <td>186</td>\n",
       "      <td>ABK0.jpg</td>\n",
       "      <td>Before application of acetic acid</td>\n",
       "    </tr>\n",
       "    <tr>\n",
       "      <th>419</th>\n",
       "      <td>186</td>\n",
       "      <td>ABK1.jpg</td>\n",
       "      <td>After application of acetic acid</td>\n",
       "    </tr>\n",
       "  </tbody>\n",
       "</table>\n",
       "<p>420 rows × 3 columns</p>\n",
       "</div>"
      ],
      "text/plain": [
       "     CaseNumber      File                               Type\n",
       "0             1  AFC0.jpg  Before application of acetic acid\n",
       "1             1  AFC1.jpg   After application of acetic acid\n",
       "2             2  AJL0.jpg  Before application of acetic acid\n",
       "3             2  AJL1.jpg   After application of acetic acid\n",
       "4             3  AGY0.jpg  Before application of acetic acid\n",
       "..          ...       ...                                ...\n",
       "415         184  AEU1.jpg   After application of acetic acid\n",
       "416         185  ADF0.jpg  Before application of acetic acid\n",
       "417         185  ADF1.jpg   After application of acetic acid\n",
       "418         186  ABK0.jpg  Before application of acetic acid\n",
       "419         186  ABK1.jpg   After application of acetic acid\n",
       "\n",
       "[420 rows x 3 columns]"
      ]
     },
     "execution_count": 3,
     "metadata": {},
     "output_type": "execute_result"
    }
   ],
   "source": [
    "df2= pd.read_excel('Cases - Images.xlsx')\n",
    "df2"
   ]
  },
  {
   "cell_type": "code",
   "execution_count": 5,
   "metadata": {},
   "outputs": [
    {
     "name": "stdout",
     "output_type": "stream",
     "text": [
      "    CaseID                   VIA  \\\n",
      "86     AAA              Negative   \n",
      "147    AAB              Positive   \n",
      "180    AAC  Suspicious of cancer   \n",
      "96     AAD              Positive   \n",
      "123    AAE              Positive   \n",
      "\n",
      "                                                  Path  \n",
      "86   D:/coding/PRML/hobby/cervical cancer/Data\\AAA1...  \n",
      "147  D:/coding/PRML/hobby/cervical cancer/Data\\AAB1...  \n",
      "180  D:/coding/PRML/hobby/cervical cancer/Data\\AAC1...  \n",
      "96   D:/coding/PRML/hobby/cervical cancer/Data\\AAD1...  \n",
      "123  D:/coding/PRML/hobby/cervical cancer/Data\\AAE1...  \n"
     ]
    }
   ],
   "source": [
    "\n",
    "# Assuming you have a DataFrame 'df' with 'CaseID' column\n",
    "\n",
    "# Step 1: Create a list of valid image file paths\n",
    "image_dir = 'D:/coding/PRML/hobby/cervical cancer/Data'  # Replace with your image directory\n",
    "valid_image_paths = []\n",
    "\n",
    "# Create a list of indices to drop\n",
    "indices_to_drop = []\n",
    "\n",
    "for i, case_id in enumerate(df['CaseID']):\n",
    "    image_filename = f\"{case_id}1.jpg\"  # Assuming images are named as 'caseID1.jpg'\n",
    "    image_path = os.path.join(image_dir, image_filename)\n",
    "    \n",
    "    if os.path.exists(image_path):\n",
    "        valid_image_paths.append(image_path)\n",
    "    else:\n",
    "        indices_to_drop.append(i)\n",
    "\n",
    "# Drop rows with missing images\n",
    "df = df.drop(index=indices_to_drop)\n",
    "\n",
    "# Add the \"Path\" column to the DataFrame\n",
    "df[\"Path\"] = valid_image_paths\n",
    "\n",
    "# Display the updated DataFrame\n",
    "print(df.head())"
   ]
  },
  {
   "cell_type": "code",
   "execution_count": 6,
   "metadata": {},
   "outputs": [
    {
     "data": {
      "text/html": [
       "<div>\n",
       "<style scoped>\n",
       "    .dataframe tbody tr th:only-of-type {\n",
       "        vertical-align: middle;\n",
       "    }\n",
       "\n",
       "    .dataframe tbody tr th {\n",
       "        vertical-align: top;\n",
       "    }\n",
       "\n",
       "    .dataframe thead th {\n",
       "        text-align: right;\n",
       "    }\n",
       "</style>\n",
       "<table border=\"1\" class=\"dataframe\">\n",
       "  <thead>\n",
       "    <tr style=\"text-align: right;\">\n",
       "      <th></th>\n",
       "      <th>CaseID</th>\n",
       "      <th>VIA</th>\n",
       "      <th>Path</th>\n",
       "      <th>Image</th>\n",
       "    </tr>\n",
       "  </thead>\n",
       "  <tbody>\n",
       "    <tr>\n",
       "      <th>86</th>\n",
       "      <td>AAA</td>\n",
       "      <td>Negative</td>\n",
       "      <td>D:/coding/PRML/hobby/cervical cancer/Data\\AAA1...</td>\n",
       "      <td>[[[202, 77, 29], [199, 77, 28], [195, 73, 24],...</td>\n",
       "    </tr>\n",
       "    <tr>\n",
       "      <th>147</th>\n",
       "      <td>AAB</td>\n",
       "      <td>Positive</td>\n",
       "      <td>D:/coding/PRML/hobby/cervical cancer/Data\\AAB1...</td>\n",
       "      <td>[[[111, 50, 22], [111, 49, 24], [111, 50, 31],...</td>\n",
       "    </tr>\n",
       "    <tr>\n",
       "      <th>180</th>\n",
       "      <td>AAC</td>\n",
       "      <td>Suspicious of cancer</td>\n",
       "      <td>D:/coding/PRML/hobby/cervical cancer/Data\\AAC1...</td>\n",
       "      <td>[[[103, 80, 62], [112, 89, 71], [118, 93, 73],...</td>\n",
       "    </tr>\n",
       "    <tr>\n",
       "      <th>96</th>\n",
       "      <td>AAD</td>\n",
       "      <td>Positive</td>\n",
       "      <td>D:/coding/PRML/hobby/cervical cancer/Data\\AAD1...</td>\n",
       "      <td>[[[100, 62, 15], [105, 67, 20], [119, 82, 37],...</td>\n",
       "    </tr>\n",
       "    <tr>\n",
       "      <th>123</th>\n",
       "      <td>AAE</td>\n",
       "      <td>Positive</td>\n",
       "      <td>D:/coding/PRML/hobby/cervical cancer/Data\\AAE1...</td>\n",
       "      <td>[[[70, 22, 10], [48, 6, 0], [49, 19, 11], [62,...</td>\n",
       "    </tr>\n",
       "    <tr>\n",
       "      <th>...</th>\n",
       "      <td>...</td>\n",
       "      <td>...</td>\n",
       "      <td>...</td>\n",
       "      <td>...</td>\n",
       "    </tr>\n",
       "    <tr>\n",
       "      <th>44</th>\n",
       "      <td>APF</td>\n",
       "      <td>Negative</td>\n",
       "      <td>D:/coding/PRML/hobby/cervical cancer/Data\\APB1...</td>\n",
       "      <td>[[[142, 112, 86], [143, 113, 87], [137, 110, 8...</td>\n",
       "    </tr>\n",
       "    <tr>\n",
       "      <th>49</th>\n",
       "      <td>API</td>\n",
       "      <td>Negative</td>\n",
       "      <td>D:/coding/PRML/hobby/cervical cancer/Data\\APF1...</td>\n",
       "      <td>[[[255, 196, 163], [254, 194, 160], [251, 191,...</td>\n",
       "    </tr>\n",
       "    <tr>\n",
       "      <th>55</th>\n",
       "      <td>APT</td>\n",
       "      <td>Negative</td>\n",
       "      <td>D:/coding/PRML/hobby/cervical cancer/Data\\API1...</td>\n",
       "      <td>[[[169, 92, 50], [171, 98, 53], [167, 103, 55]...</td>\n",
       "    </tr>\n",
       "    <tr>\n",
       "      <th>56</th>\n",
       "      <td>APV</td>\n",
       "      <td>Negative</td>\n",
       "      <td>D:/coding/PRML/hobby/cervical cancer/Data\\APT1...</td>\n",
       "      <td>[[[126, 105, 58], [133, 109, 65], [132, 98, 61...</td>\n",
       "    </tr>\n",
       "    <tr>\n",
       "      <th>165</th>\n",
       "      <td>APW</td>\n",
       "      <td>Positive</td>\n",
       "      <td>D:/coding/PRML/hobby/cervical cancer/Data\\APV1...</td>\n",
       "      <td>[[[0, 0, 2], [0, 0, 2], [0, 1, 0], [0, 1, 0], ...</td>\n",
       "    </tr>\n",
       "  </tbody>\n",
       "</table>\n",
       "<p>185 rows × 4 columns</p>\n",
       "</div>"
      ],
      "text/plain": [
       "    CaseID                   VIA  \\\n",
       "86     AAA              Negative   \n",
       "147    AAB              Positive   \n",
       "180    AAC  Suspicious of cancer   \n",
       "96     AAD              Positive   \n",
       "123    AAE              Positive   \n",
       "..     ...                   ...   \n",
       "44     APF              Negative   \n",
       "49     API              Negative   \n",
       "55     APT              Negative   \n",
       "56     APV              Negative   \n",
       "165    APW              Positive   \n",
       "\n",
       "                                                  Path  \\\n",
       "86   D:/coding/PRML/hobby/cervical cancer/Data\\AAA1...   \n",
       "147  D:/coding/PRML/hobby/cervical cancer/Data\\AAB1...   \n",
       "180  D:/coding/PRML/hobby/cervical cancer/Data\\AAC1...   \n",
       "96   D:/coding/PRML/hobby/cervical cancer/Data\\AAD1...   \n",
       "123  D:/coding/PRML/hobby/cervical cancer/Data\\AAE1...   \n",
       "..                                                 ...   \n",
       "44   D:/coding/PRML/hobby/cervical cancer/Data\\APB1...   \n",
       "49   D:/coding/PRML/hobby/cervical cancer/Data\\APF1...   \n",
       "55   D:/coding/PRML/hobby/cervical cancer/Data\\API1...   \n",
       "56   D:/coding/PRML/hobby/cervical cancer/Data\\APT1...   \n",
       "165  D:/coding/PRML/hobby/cervical cancer/Data\\APV1...   \n",
       "\n",
       "                                                 Image  \n",
       "86   [[[202, 77, 29], [199, 77, 28], [195, 73, 24],...  \n",
       "147  [[[111, 50, 22], [111, 49, 24], [111, 50, 31],...  \n",
       "180  [[[103, 80, 62], [112, 89, 71], [118, 93, 73],...  \n",
       "96   [[[100, 62, 15], [105, 67, 20], [119, 82, 37],...  \n",
       "123  [[[70, 22, 10], [48, 6, 0], [49, 19, 11], [62,...  \n",
       "..                                                 ...  \n",
       "44   [[[142, 112, 86], [143, 113, 87], [137, 110, 8...  \n",
       "49   [[[255, 196, 163], [254, 194, 160], [251, 191,...  \n",
       "55   [[[169, 92, 50], [171, 98, 53], [167, 103, 55]...  \n",
       "56   [[[126, 105, 58], [133, 109, 65], [132, 98, 61...  \n",
       "165  [[[0, 0, 2], [0, 0, 2], [0, 1, 0], [0, 1, 0], ...  \n",
       "\n",
       "[185 rows x 4 columns]"
      ]
     },
     "execution_count": 6,
     "metadata": {},
     "output_type": "execute_result"
    }
   ],
   "source": [
    "df[\"Image\"]=df[\"Path\"].map(lambda x: np.asarray(Image.open(x)))\n",
    "df"
   ]
  },
  {
   "cell_type": "code",
   "execution_count": 40,
   "metadata": {},
   "outputs": [
    {
     "data": {
      "text/plain": [
       "(72, 96, 3)"
      ]
     },
     "execution_count": 40,
     "metadata": {},
     "output_type": "execute_result"
    }
   ],
   "source": [
    "df[\"Image\"][1].shape"
   ]
  },
  {
   "cell_type": "code",
   "execution_count": 41,
   "metadata": {},
   "outputs": [
    {
     "name": "stdout",
     "output_type": "stream",
     "text": [
      "['Negative', 'Positive', 'Suspicious of cancer']\n"
     ]
    }
   ],
   "source": [
    "from sklearn.preprocessing import LabelEncoder\n",
    "le=LabelEncoder()\n",
    "le.fit(df[\"VIA\"])\n",
    "LabelEncoder()\n",
    "print(list(le.classes_))"
   ]
  },
  {
   "cell_type": "code",
   "execution_count": 42,
   "metadata": {},
   "outputs": [
    {
     "name": "stdout",
     "output_type": "stream",
     "text": [
      "    CaseID  VIA                                               Path  \\\n",
      "116    ABC    1  D:/coding/PRML/hobby/cervical cancer/Data\\ABC1...   \n",
      "175    AET    2  D:/coding/PRML/hobby/cervical cancer/Data\\AES1...   \n",
      "27     AFJ    0  D:/coding/PRML/hobby/cervical cancer/Data\\AFI1...   \n",
      "23     AGM    0  D:/coding/PRML/hobby/cervical cancer/Data\\AGB1...   \n",
      "147    AAB    1  D:/coding/PRML/hobby/cervical cancer/Data\\AAB1...   \n",
      "159    ADX    1  D:/coding/PRML/hobby/cervical cancer/Data\\ADW1...   \n",
      "12     AFH    0  D:/coding/PRML/hobby/cervical cancer/Data\\AFE1...   \n",
      "21     AHR    0  D:/coding/PRML/hobby/cervical cancer/Data\\AHQ1...   \n",
      "142    AAX    1  D:/coding/PRML/hobby/cervical cancer/Data\\AAX1...   \n",
      "86     AAA    0  D:/coding/PRML/hobby/cervical cancer/Data\\AAA1...   \n",
      "\n",
      "                                                 Image  \n",
      "116  [[[192, 193, 188], [246, 244, 245], [255, 248,...  \n",
      "175  [[[49, 9, 0], [51, 11, 1], [58, 15, 8], [64, 2...  \n",
      "27   [[[0, 8, 2], [0, 7, 2], [0, 6, 2], [0, 5, 2], ...  \n",
      "23   [[[119, 72, 46], [126, 79, 51], [134, 87, 59],...  \n",
      "147  [[[111, 50, 22], [111, 49, 24], [111, 50, 31],...  \n",
      "159  [[[58, 43, 46], [52, 38, 38], [49, 31, 31], [5...  \n",
      "12   [[[124, 58, 85], [135, 69, 96], [140, 74, 101]...  \n",
      "21   [[[70, 66, 54], [65, 61, 49], [57, 51, 39], [4...  \n",
      "142  [[[255, 255, 251], [254, 251, 244], [255, 252,...  \n",
      "86   [[[202, 77, 29], [199, 77, 28], [195, 73, 24],...  \n"
     ]
    }
   ],
   "source": [
    "df[\"VIA\"]=le.transform(df[\"VIA\"])\n",
    "print(df.sample(10))\n"
   ]
  },
  {
   "cell_type": "code",
   "execution_count": 43,
   "metadata": {},
   "outputs": [
    {
     "data": {
      "text/plain": [
       "(185, 72, 96, 3)"
      ]
     },
     "execution_count": 43,
     "metadata": {},
     "output_type": "execute_result"
    }
   ],
   "source": [
    "X= np.asarray(df[\"Image\"].tolist())\n",
    "X=X/255\n",
    "X.shape"
   ]
  },
  {
   "cell_type": "code",
   "execution_count": 44,
   "metadata": {},
   "outputs": [
    {
     "data": {
      "text/plain": [
       "(185,)"
      ]
     },
     "execution_count": 44,
     "metadata": {},
     "output_type": "execute_result"
    }
   ],
   "source": [
    "from keras.utils import to_categorical\n",
    "Y=df[\"VIA\"]\n",
    "Y_cat= to_categorical(Y,num_classes=3)\n",
    "Y.shape"
   ]
  },
  {
   "cell_type": "code",
   "execution_count": 45,
   "metadata": {},
   "outputs": [],
   "source": [
    "X_train,X_test,Y_train,Y_test=train_test_split(X,Y_cat,test_size=0.2,random_state=42)"
   ]
  },
  {
   "cell_type": "code",
   "execution_count": 46,
   "metadata": {},
   "outputs": [
    {
     "data": {
      "text/plain": [
       "<KerasTensor: shape=(None, 2, 3, 512) dtype=float32 (created by layer 'block5_pool')>"
      ]
     },
     "execution_count": 46,
     "metadata": {},
     "output_type": "execute_result"
    }
   ],
   "source": [
    "inputs=(72,96,3)\n",
    "vgg=VGG16(include_top=False,input_shape= inputs,weights=\"imagenet\")\n",
    "vgg.output"
   ]
  },
  {
   "cell_type": "code",
   "execution_count": 47,
   "metadata": {},
   "outputs": [],
   "source": [
    "for layer in vgg.layers:\n",
    "    layer.trainable=False"
   ]
  },
  {
   "cell_type": "code",
   "execution_count": 48,
   "metadata": {},
   "outputs": [
    {
     "name": "stdout",
     "output_type": "stream",
     "text": [
      "Model: \"model_3\"\n",
      "_________________________________________________________________\n",
      " Layer (type)                Output Shape              Param #   \n",
      "=================================================================\n",
      " input_3 (InputLayer)        [(None, 72, 96, 3)]       0         \n",
      "                                                                 \n",
      " block1_conv1 (Conv2D)       (None, 72, 96, 64)        1792      \n",
      "                                                                 \n",
      " block1_conv2 (Conv2D)       (None, 72, 96, 64)        36928     \n",
      "                                                                 \n",
      " block1_pool (MaxPooling2D)  (None, 36, 48, 64)        0         \n",
      "                                                                 \n",
      " block2_conv1 (Conv2D)       (None, 36, 48, 128)       73856     \n",
      "                                                                 \n",
      " block2_conv2 (Conv2D)       (None, 36, 48, 128)       147584    \n",
      "                                                                 \n",
      " block2_pool (MaxPooling2D)  (None, 18, 24, 128)       0         \n",
      "                                                                 \n",
      " block3_conv1 (Conv2D)       (None, 18, 24, 256)       295168    \n",
      "                                                                 \n",
      " block3_conv2 (Conv2D)       (None, 18, 24, 256)       590080    \n",
      "                                                                 \n",
      " block3_conv3 (Conv2D)       (None, 18, 24, 256)       590080    \n",
      "                                                                 \n",
      " block3_pool (MaxPooling2D)  (None, 9, 12, 256)        0         \n",
      "                                                                 \n",
      " block4_conv1 (Conv2D)       (None, 9, 12, 512)        1180160   \n",
      "                                                                 \n",
      " block4_conv2 (Conv2D)       (None, 9, 12, 512)        2359808   \n",
      "                                                                 \n",
      " block4_conv3 (Conv2D)       (None, 9, 12, 512)        2359808   \n",
      "                                                                 \n",
      " block4_pool (MaxPooling2D)  (None, 4, 6, 512)         0         \n",
      "                                                                 \n",
      " block5_conv1 (Conv2D)       (None, 4, 6, 512)         2359808   \n",
      "                                                                 \n",
      " block5_conv2 (Conv2D)       (None, 4, 6, 512)         2359808   \n",
      "                                                                 \n",
      " block5_conv3 (Conv2D)       (None, 4, 6, 512)         2359808   \n",
      "                                                                 \n",
      " block5_pool (MaxPooling2D)  (None, 2, 3, 512)         0         \n",
      "                                                                 \n",
      " flatten_3 (Flatten)         (None, 3072)              0         \n",
      "                                                                 \n",
      " dense_3 (Dense)             (None, 3)                 9219      \n",
      "                                                                 \n",
      "=================================================================\n",
      "Total params: 14723907 (56.17 MB)\n",
      "Trainable params: 9219 (36.01 KB)\n",
      "Non-trainable params: 14714688 (56.13 MB)\n",
      "_________________________________________________________________\n"
     ]
    }
   ],
   "source": [
    "x=Flatten()(vgg.output)\n",
    "prediction=Dense(3,activation=\"softmax\")(x)\n",
    "model=Model(inputs=vgg.inputs,outputs=prediction)\n",
    "model.summary()"
   ]
  },
  {
   "cell_type": "code",
   "execution_count": 49,
   "metadata": {},
   "outputs": [],
   "source": [
    "from keras import optimizers\n",
    "\n",
    "model.compile(loss=\"categorical_crossentropy\",optimizer=\"Adam\",metrics=['acc'])\n",
    "\n",
    "batch_size=32\n",
    "epochs=50"
   ]
  },
  {
   "cell_type": "code",
   "execution_count": 50,
   "metadata": {},
   "outputs": [
    {
     "name": "stdout",
     "output_type": "stream",
     "text": [
      "Epoch 1/50\n",
      "5/5 - 7s - loss: 1.0201 - acc: 0.4189 - val_loss: 0.9752 - val_acc: 0.5405 - 7s/epoch - 1s/step\n",
      "Epoch 2/50\n",
      "5/5 - 5s - loss: 0.8911 - acc: 0.5878 - val_loss: 0.9960 - val_acc: 0.5676 - 5s/epoch - 1s/step\n",
      "Epoch 3/50\n",
      "5/5 - 5s - loss: 0.8314 - acc: 0.6014 - val_loss: 0.9917 - val_acc: 0.5135 - 5s/epoch - 964ms/step\n",
      "Epoch 4/50\n",
      "5/5 - 5s - loss: 0.7815 - acc: 0.6419 - val_loss: 0.9879 - val_acc: 0.4865 - 5s/epoch - 923ms/step\n",
      "Epoch 5/50\n",
      "5/5 - 5s - loss: 0.7456 - acc: 0.6216 - val_loss: 0.9738 - val_acc: 0.5405 - 5s/epoch - 932ms/step\n",
      "Epoch 6/50\n",
      "5/5 - 5s - loss: 0.6943 - acc: 0.6959 - val_loss: 0.9615 - val_acc: 0.5405 - 5s/epoch - 953ms/step\n",
      "Epoch 7/50\n",
      "5/5 - 5s - loss: 0.6633 - acc: 0.7365 - val_loss: 0.9539 - val_acc: 0.5405 - 5s/epoch - 949ms/step\n",
      "Epoch 8/50\n",
      "5/5 - 5s - loss: 0.6296 - acc: 0.7635 - val_loss: 0.9467 - val_acc: 0.5135 - 5s/epoch - 925ms/step\n",
      "Epoch 9/50\n",
      "5/5 - 5s - loss: 0.5987 - acc: 0.7635 - val_loss: 0.9426 - val_acc: 0.5135 - 5s/epoch - 948ms/step\n",
      "Epoch 10/50\n",
      "5/5 - 5s - loss: 0.5806 - acc: 0.7973 - val_loss: 0.9385 - val_acc: 0.5405 - 5s/epoch - 930ms/step\n",
      "Epoch 11/50\n",
      "5/5 - 5s - loss: 0.5449 - acc: 0.8243 - val_loss: 0.9314 - val_acc: 0.4865 - 5s/epoch - 936ms/step\n",
      "Epoch 12/50\n",
      "5/5 - 5s - loss: 0.5210 - acc: 0.7973 - val_loss: 0.9299 - val_acc: 0.5135 - 5s/epoch - 930ms/step\n",
      "Epoch 13/50\n",
      "5/5 - 5s - loss: 0.4958 - acc: 0.8649 - val_loss: 0.9359 - val_acc: 0.5405 - 5s/epoch - 933ms/step\n",
      "Epoch 14/50\n",
      "5/5 - 5s - loss: 0.4819 - acc: 0.8649 - val_loss: 0.9170 - val_acc: 0.5405 - 5s/epoch - 1s/step\n",
      "Epoch 15/50\n",
      "5/5 - 5s - loss: 0.4640 - acc: 0.8514 - val_loss: 0.9267 - val_acc: 0.5135 - 5s/epoch - 999ms/step\n",
      "Epoch 16/50\n",
      "5/5 - 5s - loss: 0.4372 - acc: 0.9054 - val_loss: 0.9316 - val_acc: 0.5405 - 5s/epoch - 1s/step\n",
      "Epoch 17/50\n",
      "5/5 - 5s - loss: 0.4323 - acc: 0.9189 - val_loss: 0.9083 - val_acc: 0.5405 - 5s/epoch - 1s/step\n",
      "Epoch 18/50\n",
      "5/5 - 5s - loss: 0.4149 - acc: 0.8716 - val_loss: 0.9131 - val_acc: 0.5676 - 5s/epoch - 1s/step\n",
      "Epoch 19/50\n",
      "5/5 - 5s - loss: 0.3916 - acc: 0.9122 - val_loss: 0.9342 - val_acc: 0.5405 - 5s/epoch - 1s/step\n",
      "Epoch 20/50\n",
      "5/5 - 5s - loss: 0.3828 - acc: 0.9392 - val_loss: 0.9210 - val_acc: 0.5676 - 5s/epoch - 999ms/step\n",
      "Epoch 21/50\n",
      "5/5 - 5s - loss: 0.3645 - acc: 0.9189 - val_loss: 0.9160 - val_acc: 0.5946 - 5s/epoch - 990ms/step\n",
      "Epoch 22/50\n",
      "5/5 - 5s - loss: 0.3573 - acc: 0.9054 - val_loss: 0.9219 - val_acc: 0.5676 - 5s/epoch - 982ms/step\n",
      "Epoch 23/50\n",
      "5/5 - 5s - loss: 0.3424 - acc: 0.9527 - val_loss: 0.9367 - val_acc: 0.5676 - 5s/epoch - 1s/step\n",
      "Epoch 24/50\n",
      "5/5 - 5s - loss: 0.3307 - acc: 0.9595 - val_loss: 0.9263 - val_acc: 0.5946 - 5s/epoch - 1s/step\n",
      "Epoch 25/50\n",
      "5/5 - 6s - loss: 0.3191 - acc: 0.9527 - val_loss: 0.9324 - val_acc: 0.5405 - 6s/epoch - 1s/step\n",
      "Epoch 26/50\n",
      "5/5 - 5s - loss: 0.3069 - acc: 0.9662 - val_loss: 0.9296 - val_acc: 0.5676 - 5s/epoch - 1s/step\n",
      "Epoch 27/50\n",
      "5/5 - 5s - loss: 0.2986 - acc: 0.9730 - val_loss: 0.9301 - val_acc: 0.5135 - 5s/epoch - 961ms/step\n",
      "Epoch 28/50\n",
      "5/5 - 5s - loss: 0.2884 - acc: 0.9730 - val_loss: 0.9300 - val_acc: 0.5946 - 5s/epoch - 924ms/step\n",
      "Epoch 29/50\n",
      "5/5 - 5s - loss: 0.2796 - acc: 0.9797 - val_loss: 0.9357 - val_acc: 0.5676 - 5s/epoch - 904ms/step\n",
      "Epoch 30/50\n",
      "5/5 - 4s - loss: 0.2740 - acc: 0.9865 - val_loss: 0.9373 - val_acc: 0.5676 - 4s/epoch - 894ms/step\n",
      "Epoch 31/50\n",
      "5/5 - 5s - loss: 0.2635 - acc: 0.9865 - val_loss: 0.9372 - val_acc: 0.5946 - 5s/epoch - 900ms/step\n",
      "Epoch 32/50\n",
      "5/5 - 5s - loss: 0.2548 - acc: 0.9865 - val_loss: 0.9427 - val_acc: 0.5946 - 5s/epoch - 962ms/step\n",
      "Epoch 33/50\n",
      "5/5 - 5s - loss: 0.2489 - acc: 0.9865 - val_loss: 0.9411 - val_acc: 0.5946 - 5s/epoch - 934ms/step\n",
      "Epoch 34/50\n",
      "5/5 - 5s - loss: 0.2508 - acc: 0.9662 - val_loss: 0.9398 - val_acc: 0.5946 - 5s/epoch - 912ms/step\n",
      "Epoch 35/50\n",
      "5/5 - 5s - loss: 0.2321 - acc: 0.9932 - val_loss: 0.9681 - val_acc: 0.5135 - 5s/epoch - 908ms/step\n",
      "Epoch 36/50\n",
      "5/5 - 5s - loss: 0.2341 - acc: 0.9932 - val_loss: 0.9435 - val_acc: 0.5946 - 5s/epoch - 912ms/step\n",
      "Epoch 37/50\n",
      "5/5 - 5s - loss: 0.2215 - acc: 0.9932 - val_loss: 0.9478 - val_acc: 0.5676 - 5s/epoch - 910ms/step\n",
      "Epoch 38/50\n",
      "5/5 - 5s - loss: 0.2164 - acc: 0.9932 - val_loss: 0.9590 - val_acc: 0.5676 - 5s/epoch - 912ms/step\n",
      "Epoch 39/50\n",
      "5/5 - 5s - loss: 0.2099 - acc: 0.9932 - val_loss: 0.9615 - val_acc: 0.5676 - 5s/epoch - 923ms/step\n",
      "Epoch 40/50\n",
      "5/5 - 4s - loss: 0.2051 - acc: 0.9932 - val_loss: 0.9565 - val_acc: 0.5946 - 4s/epoch - 895ms/step\n",
      "Epoch 41/50\n",
      "5/5 - 4s - loss: 0.2024 - acc: 0.9932 - val_loss: 0.9611 - val_acc: 0.5946 - 4s/epoch - 885ms/step\n",
      "Epoch 42/50\n",
      "5/5 - 5s - loss: 0.1951 - acc: 0.9932 - val_loss: 0.9791 - val_acc: 0.5676 - 5s/epoch - 908ms/step\n",
      "Epoch 43/50\n",
      "5/5 - 5s - loss: 0.1891 - acc: 0.9932 - val_loss: 0.9670 - val_acc: 0.5676 - 5s/epoch - 944ms/step\n",
      "Epoch 44/50\n",
      "5/5 - 5s - loss: 0.1849 - acc: 0.9932 - val_loss: 0.9700 - val_acc: 0.5946 - 5s/epoch - 972ms/step\n",
      "Epoch 45/50\n",
      "5/5 - 5s - loss: 0.1794 - acc: 0.9932 - val_loss: 0.9753 - val_acc: 0.5676 - 5s/epoch - 1s/step\n",
      "Epoch 46/50\n",
      "5/5 - 5s - loss: 0.1778 - acc: 1.0000 - val_loss: 0.9792 - val_acc: 0.5676 - 5s/epoch - 1s/step\n",
      "Epoch 47/50\n",
      "5/5 - 5s - loss: 0.1734 - acc: 0.9932 - val_loss: 0.9755 - val_acc: 0.5946 - 5s/epoch - 954ms/step\n",
      "Epoch 48/50\n",
      "5/5 - 5s - loss: 0.1665 - acc: 0.9932 - val_loss: 0.9929 - val_acc: 0.5676 - 5s/epoch - 992ms/step\n",
      "Epoch 49/50\n",
      "5/5 - 5s - loss: 0.1673 - acc: 1.0000 - val_loss: 0.9912 - val_acc: 0.5676 - 5s/epoch - 1s/step\n",
      "Epoch 50/50\n",
      "5/5 - 5s - loss: 0.1615 - acc: 0.9932 - val_loss: 0.9894 - val_acc: 0.5676 - 5s/epoch - 979ms/step\n",
      "2/2 [==============================] - 1s 155ms/step - loss: 0.9894 - acc: 0.5676\n",
      "Test accuracy: 0.5675675868988037\n"
     ]
    }
   ],
   "source": [
    "history=model.fit(\n",
    "    X_train,Y_train,\n",
    "    epochs=epochs,\n",
    "    batch_size=batch_size,\n",
    "    validation_data=(X_test,Y_test),\n",
    "    verbose=2\n",
    ")\n",
    "\n",
    "score=model.evaluate(X_test,Y_test)\n",
    "print(\"Test accuracy:\",score[1])"
   ]
  }
 ],
 "metadata": {
  "kernelspec": {
   "display_name": "Python 3",
   "language": "python",
   "name": "python3"
  },
  "language_info": {
   "codemirror_mode": {
    "name": "ipython",
    "version": 3
   },
   "file_extension": ".py",
   "mimetype": "text/x-python",
   "name": "python",
   "nbconvert_exporter": "python",
   "pygments_lexer": "ipython3",
   "version": "3.10.0"
  }
 },
 "nbformat": 4,
 "nbformat_minor": 2
}
